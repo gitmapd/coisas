{
 "cells": [
  {
   "cell_type": "code",
   "execution_count": 1,
   "id": "b8cd58c9-ea3a-469c-b19f-531cbc283a13",
   "metadata": {},
   "outputs": [
    {
     "data": {
      "text/html": [
       "<style type=\"text/css\">\n",
       "#T_db7b3_row0_col5 {\n",
       "  background-color: lightgreen;\n",
       "}\n",
       "</style>\n",
       "<table id=\"T_db7b3\">\n",
       "  <thead>\n",
       "    <tr>\n",
       "      <th class=\"blank level0\" >&nbsp;</th>\n",
       "      <th id=\"T_db7b3_level0_col0\" class=\"col_heading level0 col0\" >Nomes</th>\n",
       "      <th id=\"T_db7b3_level0_col1\" class=\"col_heading level0 col1\" >Nota PT</th>\n",
       "      <th id=\"T_db7b3_level0_col2\" class=\"col_heading level0 col2\" >Nota Mat</th>\n",
       "      <th id=\"T_db7b3_level0_col3\" class=\"col_heading level0 col3\" >Media Disc</th>\n",
       "      <th id=\"T_db7b3_level0_col4\" class=\"col_heading level0 col4\" >Entrevista</th>\n",
       "      <th id=\"T_db7b3_level0_col5\" class=\"col_heading level0 col5\" >Nota C/ Entrevista</th>\n",
       "    </tr>\n",
       "  </thead>\n",
       "  <tbody>\n",
       "    <tr>\n",
       "      <th id=\"T_db7b3_level0_row0\" class=\"row_heading level0 row0\" >1</th>\n",
       "      <td id=\"T_db7b3_row0_col0\" class=\"data row0 col0\" >Tiago Filipe</td>\n",
       "      <td id=\"T_db7b3_row0_col1\" class=\"data row0 col1\" >16</td>\n",
       "      <td id=\"T_db7b3_row0_col2\" class=\"data row0 col2\" >18</td>\n",
       "      <td id=\"T_db7b3_row0_col3\" class=\"data row0 col3\" >11.900000</td>\n",
       "      <td id=\"T_db7b3_row0_col4\" class=\"data row0 col4\" >19</td>\n",
       "      <td id=\"T_db7b3_row0_col5\" class=\"data row0 col5\" >17.600000</td>\n",
       "    </tr>\n",
       "    <tr>\n",
       "      <th id=\"T_db7b3_level0_row1\" class=\"row_heading level0 row1\" >0</th>\n",
       "      <td id=\"T_db7b3_row1_col0\" class=\"data row1 col0\" >Marcio Franco</td>\n",
       "      <td id=\"T_db7b3_row1_col1\" class=\"data row1 col1\" >13</td>\n",
       "      <td id=\"T_db7b3_row1_col2\" class=\"data row1 col2\" >13</td>\n",
       "      <td id=\"T_db7b3_row1_col3\" class=\"data row1 col3\" >9.100000</td>\n",
       "      <td id=\"T_db7b3_row1_col4\" class=\"data row1 col4\" >12</td>\n",
       "      <td id=\"T_db7b3_row1_col5\" class=\"data row1 col5\" >12.700000</td>\n",
       "    </tr>\n",
       "    <tr>\n",
       "      <th id=\"T_db7b3_level0_row2\" class=\"row_heading level0 row2\" >2</th>\n",
       "      <td id=\"T_db7b3_row2_col0\" class=\"data row2 col0\" >José Miguel</td>\n",
       "      <td id=\"T_db7b3_row2_col1\" class=\"data row2 col1\" >13</td>\n",
       "      <td id=\"T_db7b3_row2_col2\" class=\"data row2 col2\" >10</td>\n",
       "      <td id=\"T_db7b3_row2_col3\" class=\"data row2 col3\" >8.050000</td>\n",
       "      <td id=\"T_db7b3_row2_col4\" class=\"data row2 col4\" >13</td>\n",
       "      <td id=\"T_db7b3_row2_col5\" class=\"data row2 col5\" >11.950000</td>\n",
       "    </tr>\n",
       "  </tbody>\n",
       "</table>\n"
      ],
      "text/plain": [
       "<pandas.io.formats.style.Styler at 0x7efd1090fe50>"
      ]
     },
     "execution_count": 1,
     "metadata": {},
     "output_type": "execute_result"
    }
   ],
   "source": [
    "import pandas as pd\n",
    "import numpy as np\n",
    "nomes = ['Marcio Franco','Tiago Filipe','José Miguel']\n",
    "pt = [13,16,13]\n",
    "mat = [13,18,10]\n",
    "mydf = pd.DataFrame(list(zip(nomes,pt,mat)), columns = ['Nomes','Nota PT','Nota Mat'])\n",
    "mydf['Media Disc'] = mydf.apply(lambda row: (row['Nota PT']*0.35+row['Nota Mat']*0.35),axis=1)\n",
    "mydf['Entrevista'] = np.random.randint(10,20, mydf.shape[0])\n",
    "mydf['Nota C/ Entrevista'] = mydf.apply(lambda row: (row['Nota PT']*0.35+row['Nota Mat']*0.35+row['Entrevista']*0.3),axis=1)\n",
    "mydf.sort_values(by=['Nota C/ Entrevista'],ascending=False).style.highlight_between(left=17.45,right=19,subset='Nota C/ Entrevista',color='lightgreen')"
   ]
  },
  {
   "cell_type": "code",
   "execution_count": null,
   "id": "e64beb68-db6f-4785-8c1b-a219d4e7fab8",
   "metadata": {},
   "outputs": [],
   "source": []
  }
 ],
 "metadata": {
  "kernelspec": {
   "display_name": "Python 3 (ipykernel)",
   "language": "python",
   "name": "python3"
  },
  "language_info": {
   "codemirror_mode": {
    "name": "ipython",
    "version": 3
   },
   "file_extension": ".py",
   "mimetype": "text/x-python",
   "name": "python",
   "nbconvert_exporter": "python",
   "pygments_lexer": "ipython3",
   "version": "3.11.5"
  }
 },
 "nbformat": 4,
 "nbformat_minor": 5
}
